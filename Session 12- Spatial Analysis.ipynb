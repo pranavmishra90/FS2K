{
 "cells": [
  {
   "cell_type": "markdown",
   "id": "72a7e301",
   "metadata": {},
   "source": [
    "# Session 12 - Spatial analysis, hierarchy manipulation, and cell interactions\n",
    "*Goal: Learn a variety of tools within QuPath to analyze the spatial relationships between cells*"
   ]
  },
  {
   "cell_type": "markdown",
   "id": "8d1c3296",
   "metadata": {},
   "source": [
    "## Create Tingible Body Macrophage Annotations\n",
    "When analyzing spatial relationships, *detections* are characterized by their centroids while *annotations* are characterized by their boundaries. To determine if macrophages are plausibly touching T cells, we need to measure distance from the macrophage boundaries. Therefore, we need to create annotations around the macrophage. There are two ways to do this:\n",
    "\n",
    "1. Convert detections to annotations with a script\n",
    "    - Pros: computationally fast, utilizes object classifiers, finds TB Macs in the entire tissue <br>\n",
    "2. Create new annotation objects\n",
    "    - Pros: no scripting, limits potential area to germinal centers\n",
    "    \n",
    "We'll go through both in the workshop (time permitting)"
   ]
  },
  {
   "cell_type": "markdown",
   "id": "7049cdc7",
   "metadata": {},
   "source": [
    "### Option 1- Turn detections into annotations with a script\n",
    "The script below takes the all of the detection objects currently classified as TBMacs and creates annotations with the exact same shape. It then deletes the detection objects. \n",
    "\n",
    "Copy paste the script into the Script editor window and run it (`Run > Run`). If you named your macrophages anything other than 'TBMacs' (case sensitive), change line 2 to have your class name. "
   ]
  },
  {
   "cell_type": "code",
   "execution_count": null,
   "id": "ea99b372",
   "metadata": {},
   "outputs": [],
   "source": [
    "def macs = getDetectionObjects() //find all detection objects\n",
    "def tbmacs = macs.findAll{it.classifications.contains('TBMacs')} //filter for the tingible body class\n",
    "def newAnnots = tbmacs.collect{ //loop through each object individually, collecting the results into newAnnots\n",
    "    //\"it\" refers to each cell as it goes through the loop\n",
    "    PathObjects.createAnnotationObject(it.getROI(),it.getPathClass(),it.getMeasurementList()) // create an object with the same region of interest, classification, and measurements\n",
    "} \n",
    "\n",
    "addObjects(newAnnots) //add the new annotations to the image, otherwise they are just saved in the variable and not real\n",
    "removeObjects(macs,true) //delete all detections"
   ]
  },
  {
   "cell_type": "markdown",
   "id": "52cff13e",
   "metadata": {},
   "source": [
    "### Option 2- Create annotations directly from the pixel classifier\n",
    "Since tingible body macrophages are predominantly found in the germinal center in tonsils, and they are the dominant CD11c+ CD68+ cells in the germinal centers,  we can skip the entire object classifier step and directly segment GC cells found by our pixel classifier as TB Mac annotations.\n",
    "\n",
    "For this workshop, I recommend Option 2. \n",
    "\n",
    "**In a real project, which method you should use depends on the underlying biology** There are CD11c+CD68+ cells outside the germinal center. If these are the cells of interest, than you want to use Option 1, which finds cells regardless of location. If these are definitionally not the cells we care about, then restricting the region to GCs improves accuracy and makes us less likely to miss small cells. \n",
    "\n",
    "1. Delete all the detections (`Objects > Delete > Delete all detections`)\n",
    "2. Create a new class called 'GC'\n",
    "2. Use the annotation tools to mark the germinal centers in the tissue section. Give them the GC class. \n",
    "    <img src=\"Images/GCs.PNG\">\n",
    "    \n",
    "3. Select all of the germinal centers\n",
    "4. Load the pixel classifier \n",
    "    1. `Classify > Pixel classification > Load pixel classifier`\n",
    "    2. Choose model \"TBMacs\"\n",
    "    3. <kbd>Create objects</kbd>\n",
    "    4. Choose parent objects: \"Current selection\"\n",
    "    5. Same options as previously, except New object type = \"Annotations\" <br>\n",
    "        <img src=\"Images/MacAnnots.PNG\">\n",
    "    6. Click <kbd>OK</kbd>"
   ]
  },
  {
   "cell_type": "markdown",
   "id": "8907d2d1",
   "metadata": {},
   "source": [
    "## Detect non-macrophage cells\n",
    "We are about to create cells in the full tissue, but we don't want it to erase the germinal center and macrophage annotations. So, we'll need to alter the hierarchy before cell creation. \n",
    "\n",
    "1. Delete the full image rectangle. **KEEP** child objects!\n",
    "2. Create a new full image rectangle. Do NOT re-resolve the hieararchy. We specifically want the germinal centers to be outside of this rectangle. \n",
    "\n",
    "1. Select the full image rectangle\n",
    "2. Run InstanSeg: `Extensions > InstanSeg > Run InstanSeg`\n",
    "    - Pick whichever channels you feel are appropriate\n",
    "    - I don't recommend running measurements\n",
    "4. If you cannot detect the cells in a reasonable amount of time, download the project \"Proj2 - Raw InstanSeg\" and proceed from here!\n",
    "4. Find internal cells\n",
    "    1. `Analyze > Spatial Analysis > Signed distance to annotations 2D`\n",
    "    2. Click <kbd>Yes</kbd> when it asks to split multipart classifications?\n",
    "    3. This will take a minute.\n",
    "5. Look at the measurements for each cell. The ones inside the macrophages have a negative value for 'Signed distance to annotation with TBMacs µm'. \n",
    "6. Remove the internal cells\n",
    "    1. `Classify > Object classification > Create single measurement classifier`\n",
    "    2. Set the measurement to 'Signed distance to annotation with TBMacs µm'\n",
    "    3. Set the threshold to 0\n",
    "    4. Set the Below class to anything not already claimed. I used \"Other\"\n",
    "    5. Give the classifier a name, <kbd>Save</kbd>, and <kbd>Apply</kbd>\n",
    "    \n",
    "        <img src=\"Images/InsideMacClass.PNG\">\n",
    "7. Select all Other cells (or whatever class you used) and delete them. "
   ]
  },
  {
   "cell_type": "markdown",
   "id": "e14ae1ad",
   "metadata": {},
   "source": [
    "## Quantify cell-cell interactions\n",
    "\n",
    "1. Train a classifier for PD-1 \n",
    "    1. Select all cells\n",
    "    2. Measure the mean, min, max, standard deviation, and Haralick features of the PD-1 and Ki67 channels\n",
    "    3. Select the GC objects and lock them. (`Right click > Annotations > Lock`)\n",
    "    4. Use the points annotation tool to [train an object classifier](./Session%206%20-%20Classifying%20Cells%20pt1.ipynb#3.-Finding-Leukocytes---Training-an-ML-Object-Classifier) for PD-1+ cells. Use only PD1 channel measurements. \n",
    "\n",
    "2. Train a classifier for Ki67\n",
    "    1. Lock the two point annotation objects. Locked annotations are not used when training a classifier\n",
    "    2. Rename the Ignore* Points \"PD1 Ignore\"\n",
    "    3. Train an object classifier to find Ki67+ cells using only the Ki67 measurments. Make sure to create a new Ignore* points object for this classifier, named \"Ki67 Ignore\". \n",
    "    \n",
    "3. Create a classifier to identify cells very near macrophages.\n",
    "    1. `Classify > Object classification > Create single measurement classifier`\n",
    "    2. Set the measurement to 'Signed distance to annotation with TBMacs µm'\n",
    "    3. Set the threshold to 5 (remember, you've already deleted cells with distance <0)\n",
    "    4. Creating a \"touching\" class. Set the Below class to \"touching\"\n",
    "    5. Give the classifier a name, <kbd>Save</kbd>, and <kbd>Apply</kbd>\n",
    "    \n",
    "3. Combine the 3 classifiers. \n",
    "4. Save the file. Duplicate the image, with a relevant name. Delete the training points. \n",
    "\n",
    "5. [Export](./Session%209%20-%20Data%20Export%20and%20Simplification.ipynb#Exporting-Cell-Counts) the annotation measurements\n",
    "    1. `Measure > Export measurements`\n",
    "    2. Use these settings\n",
    "        <img src=\"Images/GCCellCount.PNG\">\n",
    "\n",
    "\n",
    "### Are the cells near Tingible Body Macrophages more likely to be PD1+ than the ones further away?\n",
    "open \n",
    "\n"
   ]
  },
  {
   "cell_type": "code",
   "execution_count": null,
   "id": "3c17cedb",
   "metadata": {},
   "outputs": [],
   "source": []
  }
 ],
 "metadata": {
  "kernelspec": {
   "display_name": "Python 3 (ipykernel)",
   "language": "python",
   "name": "python3"
  },
  "language_info": {
   "codemirror_mode": {
    "name": "ipython",
    "version": 3
   },
   "file_extension": ".py",
   "mimetype": "text/x-python",
   "name": "python",
   "nbconvert_exporter": "python",
   "pygments_lexer": "ipython3",
   "version": "3.9.7"
  }
 },
 "nbformat": 4,
 "nbformat_minor": 5
}
