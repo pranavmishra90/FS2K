{
 "cells": [
  {
   "cell_type": "markdown",
   "id": "8ee1d37b",
   "metadata": {},
   "source": [
    "# Session 10 - Combining Images\n",
    "*Goal 1: Learn how to work with extensions in QuPath* <br>\n",
    "*Goal 2: Learn how to combine 2 images of the same section to get more information*\n",
    "\n",
    "Because it's open-source and popular, many people within the QuPath community write additional functionality for QuPath in the form of extension that can be downloaded separately. Let's try installing one of my favorites- WarpyImageCombiner. This comes from the [BioImaging and Optics Platform](https://www.epfl.ch/research/facilities/ptbiop/) through the EPFL (École Polytechnique Fédérale de Lausanne) in Switzerland. "
   ]
  },
  {
   "cell_type": "markdown",
   "id": "ebc622ff",
   "metadata": {},
   "source": [
    "## Download the extension\n",
    "1. Go to the [Biop Github page](https://github.com/biop/qupath-extension-warpy/releases).2\n",
    "2. Click the drop down next to Assets\n",
    "<img src=\"Images/BiopGithub.PNG\">\n",
    "3. Download \"qupath-extension-warpy-0.4.0-SNAPSHOT.zip\"\n",
    "4. In your Downloads folder (or the Mac equivalent), **unzip the folder.** You will see a list of .jar files.\n",
    "<img src=\"Images/Unzip.PNG\">\n",
    "\n",
    "\n",
    "## Install the extension in QuPath\n",
    "5. Close any open QuPath windows and open a new one. \n",
    "6. Open the *unzipped* Warpy 0.4.0 folder. \n",
    "7. Drag all of the .jar files into the main QuPath window. If this is your first time installing an extension, it will ask you where you want the user directory for extensions to be saved. Click <kbd>Use default</kbd>\n",
    "<img src=\"Images/InstallWarpy.gif\">\n",
    "8. Restart QuPath. \n",
    "9. There should now be 2 new menu options that weren't there before. Check that these exist.\n",
    "    - `Analyze > Interactive Image Combiner Warpy`\n",
    "    - `Extensions > Warpy`"
   ]
  },
  {
   "cell_type": "markdown",
   "id": "5fc7c0f1",
   "metadata": {},
   "source": [
    "### Preparing the project\n",
    "1. Start a [brand new project](./Session%201-%20Visualization.ipynb#1.-Create-a-Project.).\n",
    "    1. Create a blank folder named \"Project 2\"\n",
    "    2. Drag it into QuPath. Click <kbd>Yes</kbd> to create the new project. \n",
    "2. Drag in 2 images: Tonsil_flip.ome.tiff and Tonsil_HE.tif\n",
    "3. Double click on Tonsil_HE to open. \n",
    "4. Set the stain deconvolution. This is a way of telling QuPath how \"purple\" is hematoxylin and how \"pink\" is eosin. \n",
    "    1. Change the Image type. In the Image tab, double click on \"Brightfield (H-DAB)\". Change this to \"Brightfield (H&E)\" and then hit <kbd>Apply</kbd>\n",
    "    1. Zoom in a small region containing nuclei, bright pink regions, and background.\n",
    "    2. Draw a square containing all 3 components <br>\n",
    "    <img src=\"Images/StainDecon.PNG\">\n",
    "    3. `Analyze > Estimate stain vectors`\n",
    "    4. When it asks if you want to use the Modal RGB values, click <kbd>Yes</kbd>\n",
    "    5. In the new window, change the \"Max total OD\" to 2. Then, click <kbd>Auto</kbd>, then click <kbd>OK</kbd> <br>\n",
    "        <img src=\"Images/StainDecon2.PNG\">\n",
    "    6. Keep the default name for the stain vectors, click <kbd>OK</kbd>\n",
    "    7. Delete the small box. \n",
    "    \n",
    "5. `Right click on the image > Multi-view > Set grid size > Grid 1 x 2 (horizontal)`    \n",
    "6. Click on the new, blank viewer. There will be a very subtle red border around it to show it's highlighted.\n",
    "<img src=\"Images/RedBorder.png\">\n",
    "7. Open the Tonsil_flip fluorescence image inside the new viewer\n",
    "8. Change the display settings to be a \"pseudo-HE\"\n",
    "    1. Turn off all channels except Hoechst and AF1\n",
    "    2. Click on the small colored box next to Hoechst. \n",
    "    3. Click on \"Custom Color\"\n",
    "    4. Find a purple that is close to the color of hematoxylin (just approximate). Click <kbd>Save</kbd>\n",
    "    5. Follow steps 2-4 for AF1, setting it to be similar to the pink of eosin. \n",
    "    7. Click Invert Background\n",
    "    8. Adjust the brightness of both channels until it looks a little like the HE next to it. \n",
    "    6. Save these display settings as \"PseudoHE\" <br>\n",
    "    <img src=\"Images/PseudoHE.PNG\">\n",
    "    9. *Amaze your pathologist coworkers!*\n",
    "5. Save both images!"
   ]
  },
  {
   "cell_type": "markdown",
   "id": "b4e1639c",
   "metadata": {},
   "source": [
    "## Using Interactive Image Combiner\n",
    "1. Click on the Tonsil_flip fluorescence image. \n",
    "7. Open the Interactive Image Combiner: `Analyze > Interactive Image Combiner Warpy`\n",
    "8. Tonsil_flip.ome.tif will already be displayed in the window. Load Tonsil_HE\n",
    "    1. Click \"Choose images from project\"\n",
    "    2. Select Tonsil_HE.ome.tif\n",
    "    3. Click OK\n",
    "9. Select Tonsil_HE in the Image Combiner Window. Adjust the Opacity slider to 50% see both overlaid (poorly) <br>\n",
    "<img src=\"Images/LoadForWarpy.gif\">\n",
    "10. Because the fluorescence and brightfield images have different pixel sizes, we need to adjust the scale. The proper scaling factor is the ratio of the two pixel sizes: $0.325 / 0.2202 = 1.476$ Replace the 1s with this value in the matrix at the bottom of the window then click <kbd>Update</kbd> <br>\n",
    "<img src=\"Images/ScalingFactor.PNG\">\n",
    "11. Hold <kbd>Shift</kbd>. Drag around the \"moving\" image (larger, true HE) until they are approximately aligned. \n",
    "<img src=\"Images/CoarseAlign.gif\">\n",
    "12. Zoom in on an area with distinctive features (I like using tissue gaps). Fix the alignment as best as you can. \n",
    "13. In the Image Combiner Warpy window, change the pixel size to 10. Press <kbd>Estimate transform</kbd> <br>\n",
    "<img src=\"Images/AutoAlign_10.PNG\">\n",
    "14. Zoom in on an area with a few nuclei. Hold <kbd>Shift</kbd>, adjust the alignment as best as possible. \n",
    "15. Change the pixel size to 2.  Press <kbd>Estimate transform</kbd>.\n",
    "16. Adjust the opacity slider to observe the results.\n",
    "17. If your computer can handle it, change the pixel size to 1 um and estimate the transform again. This takes ~2 min on my large desktop, might be impossible on a laptop.  If your computer cannot do the estimate in a reasonable time frame, you can copy this and paste it directly into the matrix text box, then hit <kbd>Update</kbd>:\n",
    "\n",
    "    ```\n",
    "    1.47786, \t -0.01268,\t -214.08612,\n",
    "    0.01203,\t 1.47701,\t 2608.79977\n",
    "    ```\n",
    "\n",
    "18. Whichever transform matrix you end up using, I highly recommend copy-pasting it to a text file and saving it. This can be very helpful later for reporting results, swapping which image moves, or [transferring objects](https://forum.image.sc/t/qupath-multiple-image-alignment-and-object-transfer/35521) from one to another. \n",
    "18. Here are the results of using 0.5 um resolution: <br>\n",
    "<img src=\"Images/AlignmentResults.gif\">\n",
    "\n",
    "19. Click on the fluorescence image (should be in the right viewer). \n",
    "20. In the Brightness & Contrast window, turn on **all** channels (it's OK that it's too bright!)\n",
    "20. Switch the Interpolation mode to \"Bicubic\" <br>\n",
    "<img src=\"Images/Bicubic.PNG\">\n",
    "20. Back in the Combiner window, click <kbd>Create</kbd>. When it asks you to add an image, click <kbd>Yes</kbd>.\n",
    "<img src=\"Images/WarpyCreate.PNG\">\n",
    "21. It will add a new image in your Project tab, which is automatically opened (might look black).  <br>\n",
    "<img src=\"Images/EntryCreated.PNG\">\n"
   ]
  },
  {
   "cell_type": "markdown",
   "id": "b6e55044",
   "metadata": {},
   "source": [
    "#### Visualizing the Overlay\n",
    "1. Close the HE image (on the left). `Right click on it > Multi-view > Close viewer`.\n",
    "2. Remove the now empty viewer. `Right click on the Overlay image > Multi-view > Set grid size > Grid 1 x 1 (single viewer)`\n",
    "3. Turn off all channels except \"Tonsil_flip.ome.tif-Hoechst\" and \"Tonsil_HE-Hematoxylin\". Put these two in contrasting colors. Get a visual assessment of how \"good\" the overlay is. \n",
    "    - You can probably match most nuclei across images, but there will be some that don't match well and some that are misaligned.\n",
    "    - You also lose resolution in the HE image, because the new pixel size is 0.325. If you had switched which image was the \"base\", you *would not have gained resolution*. QuPath would interpolate between fluorescence pixels to match the pixel sizes, but it cannot create information that wasn't in the original image. \n",
    "4. This new project entry does not duplicate the large image files! It is reading both .ome.tif files simultaneously and applying the transform on-the-fly. Simply viewing the image is memory intensity (but not storage intensive). If you intend to do any deep processing on this image, I recommend you save it as an .ome.tif in its own right. \n",
    "    1. `File > Export images >  OME-TIFF`\n",
    "    2. Give it a name and pick a pyramid value of 4. \n",
    "    3. Wait until it says it's done (slow!)\n",
    "    4. Load the newly created file into QuPath and do all work on that one. \n",
    "5. For the rest of this workshop, we will use the fluorescence only image, so there is no reason to duplicate the data now. "
   ]
  }
 ],
 "metadata": {
  "kernelspec": {
   "display_name": "Python 3 (ipykernel)",
   "language": "python",
   "name": "python3"
  },
  "language_info": {
   "codemirror_mode": {
    "name": "ipython",
    "version": 3
   },
   "file_extension": ".py",
   "mimetype": "text/x-python",
   "name": "python",
   "nbconvert_exporter": "python",
   "pygments_lexer": "ipython3",
   "version": "3.9.7"
  }
 },
 "nbformat": 4,
 "nbformat_minor": 5
}
