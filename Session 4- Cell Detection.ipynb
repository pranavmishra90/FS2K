{
 "cells": [
  {
   "cell_type": "markdown",
   "id": "8990bed4",
   "metadata": {},
   "source": [
    "# Session 4 - Cell Detection\n",
    "*Goal: Learn 2 methods for detecting cells in multiplex images, including the pros and cons of each*"
   ]
  },
  {
   "cell_type": "markdown",
   "id": "9a094f87",
   "metadata": {},
   "source": [
    "## Method 1- QuPath's Built-In Cell Detection\n",
    "1. Select the whole tissue annotation\n",
    "2. `Analyze > Cell detection > Cell detection`<br>\n",
    "<img src=\"Images/CellDetection_internal.PNG\">\n",
    "\n",
    "Start with these settings:\n",
    "\n",
    "<img src=\"Images/CellDetectionSettings.PNG\">\n",
    "\n",
    "  - *Oh No! My Tumor Annotation Disappeared!* When you detect cells, it deletes the 'child' objects in the hierarchy. Don't worry, we will get it back!\n",
    "\n",
    "3. Spend a few minutes adjusting the settings and rerunning the cell detection. Some settings will look better for the tumor cells, some will look better for the inflammatory cells.  Find what looks best overall. \n",
    "\n",
    "4. Click on the tissue annotation in the Annotation tab. In the measurements table, it tells you the total number of cells - as `Num detections`. You can calculate cell density as:\n",
    "$NumCells / Area * 1000000 = cells / mm^2$\n",
    "\n",
    "5. You can visualize the nucleus, the cell membrane, or both by right click > Cells and choosing one of the options there. You can turn the detection outlines on and off with <kbd>D</kbd> and fill them in the <kbd>F</kbd> (or these buttons):<br> <img src=\"Images/CellDisplay.PNG\">\n",
    "\n",
    "<img src=\"Images/CellDisplay.gif\" width=\"400\">"
   ]
  },
  {
   "cell_type": "markdown",
   "id": "ea4c6a6f",
   "metadata": {},
   "source": [
    "### Understanding Detection Measurements\n",
    "1. Select any cell (usually double click, though this can vary) and look at the measurements table in the Annotations tab. It gives you a variety of shape and intensity measurements for each cell. \n",
    "\n",
    "<img src=\"Images/CellMeasurements.PNG\">\n",
    "\n",
    "2. Open up the detections measurements table `Measure > Show detection measurements`. Things you can do with this table:\n",
    "  - Sort by any measurement by clicking on the column header\n",
    "  - Double click on a cell to find it in the image\n",
    "  - Double click on a cell in the image to jump to that cell in the measurement table\n",
    "  - Create a histogram of a measurement\n",
    "  - Filter by class (will get to this later)\n",
    " \n",
    "  \n",
    "  <img src=\"Images/MeasurementTable.gif\"> "
   ]
  },
  {
   "cell_type": "markdown",
   "id": "1ff44fe7",
   "metadata": {},
   "source": [
    "## Method 2- InstanSeg\n",
    "**To use InstanSeg, you must have QuPath verison 0.6.0.** The current most up to date is 0.6.0-rc3, but that may change by the start of the workshop. "
   ]
  },
  {
   "cell_type": "markdown",
   "id": "1e945332",
   "metadata": {},
   "source": [
    "#### One-time setup for InstanSeg\n",
    "1. `Extensions > Deep Java Library > Manage DJL Extensions`\n",
    "2. Under PyTorch (default) click <kbd>Check / download</kbd>\n",
    "\n",
    "  <img src=\"Images/ManageDJL.PNG\"> <br>\n",
    "This may take a while to download, the orange circle will turn green when it is done. You can then close this window.\n",
    "\n",
    "NOTE: We are not covering using the GPU here. For further information about PyTorch GPU acceleration, see [the documentation](https://qupath.readthedocs.io/en/0.5/docs/deep/gpu.html)\n",
    "  \n",
    "3. Start up Instanseg with: `Extensions > InstanSeg > Run instanseg`\n",
    "    <img src=\"Images/StartInstanSeg.PNG\">\n",
    "\n",
    "4. The first time you run InstanSeg, it will ask you about checking the internet for new models. Click \"Allow once\".\n",
    "\n",
    "<img src=\"Images/CheckInternetModels.png\">\n",
    "\n",
    "5. InstanSeg will need to download some pre-trained models. \n",
    "  1. Choose the location on your computer where you want them saved by clicking on the folder icon\n",
    "  2. Select the fluorescence_nuclei_and_cells model from the dropdown\n",
    "  3. Click the download button.\n",
    "  4. If the model downloads correctly, the cloud icon on the left side of the dropdown will disappear.\n",
    "  \n",
    "      <img src=\"Images/InstansegInstall.PNG\"><br>\n",
    "      Note: your buttons will look slightly different because I had previously downloaded the models"
   ]
  },
  {
   "cell_type": "markdown",
   "id": "6e71c507",
   "metadata": {},
   "source": [
    "### Running InstanSeg\n",
    "1. We're going to save the built-in cell detection results so that we can compare them to the InstanSeg results. The easiest way to do this is to duplicate the image. \n",
    "  1. Save your work! `File > Save` or <kbd>Ctrl + S</kbd>\n",
    "  2. In the Projects tab, right click on the current image > `Duplicate image`. Name the new image 'LungImg2.ome.tiff_Builtin' or similar. Keep the \"Also duplicate data files\" option checked. \n",
    "  3. A new image entry will be created in the Project tab.\n",
    "  \n",
    "  <img src=\"Images/DuplicateImage.PNG\">\n",
    "2. Delete the existing cells with `Objects > Delete > Delete all detections`\n",
    "\n",
    "3. Start up Instanseg with: `Extensions > InstanSeg > Run instanseg`\n",
    "\n",
    "4. Click on the dropdown \"Input channels\". Select only those you believe will be helpful for segmenting cells. You should always include the nuclear marker (Hoechst), and whatever membrane and cytoplasmic markers that show cell boundaries. Definitely uncheck the two blank channels.\n",
    "\n",
    "5. UNCHECK `Make measurements`\n",
    "    \n",
    "5. Draw a SMALL annotation (~100 cells) around a region that contains tumor and stroma. With that annotation selected click <kbd>Run</kbd>\n",
    "\n",
    "6. If you are unhappy with the results, try adjusting the input channels. Then, draw rectangles in different regions of the image to test the settings. Iterate until you are satisfied or until the results stop improving. It's generally not worth tweaking the other input parameters unless you know a lot about your computer hardware. \n",
    "\n",
    "7. When you have your final settings, delete all rectangles that you made for testing. Select the tissue annotation and run InstanSeg one more time (this will be slow)\n",
    "\n",
    "\n",
    "<img src=\"Images/InstanSegResults.PNG\">"
   ]
  },
  {
   "cell_type": "markdown",
   "id": "b66c4651",
   "metadata": {},
   "source": [
    "#### Comparing Results of different segmentation methods\n",
    "1. Save your work!\n",
    "2. Use Multiview Mode. On the image, `Right Click > Multi-view > Set grid size > Grid 1 x 2 (horizontal)`\n",
    "3. A new viewer will be created to the right. Click on it (it will be subtly outlined in red). Double click on the image LungImg2.ome.tiff_Builtin to open it in the new viewer. \n",
    "4. Synchronize the viewers\n",
    "  1. `Right click > Multi-view > Uncheck 'Synchronize Viewers'` (unintuitive but important for resetting them)\n",
    "  2. Click on one of the images. Press the full screen button.   <img src=\"Images/FullScreen.PNG\">. Repeat for the other side\n",
    "  3. `Right click > Multi-view > Check 'Synchronize Viewers'`\n",
    "  4. Open Brightness / Contrast <img src= \"Images/BrightnessContrast.png\"> \n",
    "  5. Check \"Apply to similar images\" at the bottom <br>\n",
    "  Full method:\n",
    "  \n",
    "   <img src= \"Images/SynchronizeViewers.gif\"><br>\n",
    "   \n",
    "5. Zoom in to any spot. Compare the results of the built-in (Watershed-based) cell detection and that of InstanSeg. Make sure you look at different cells types and many regions. <br>\n",
    "*Only you can determine if the extra time needed for InstanSeg is worth the increased accuracy for your project!* <br>\n",
    "\n",
    "6. To close the multiviewer, right click on the image on the right > Multi-view > Close Viewer. Then, right click on the left image > Multi-view > Set grid size > Grid 1x1 (single viewer) "
   ]
  }
 ],
 "metadata": {
  "kernelspec": {
   "display_name": "Python 3 (ipykernel)",
   "language": "python",
   "name": "python3"
  },
  "language_info": {
   "codemirror_mode": {
    "name": "ipython",
    "version": 3
   },
   "file_extension": ".py",
   "mimetype": "text/x-python",
   "name": "python",
   "nbconvert_exporter": "python",
   "pygments_lexer": "ipython3",
   "version": "3.9.7"
  }
 },
 "nbformat": 4,
 "nbformat_minor": 5
}
