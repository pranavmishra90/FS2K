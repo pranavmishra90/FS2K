{
 "cells": [
  {
   "cell_type": "markdown",
   "id": "6f65e2b4",
   "metadata": {},
   "source": [
    "# Session 8 - Multiplex Classifiers \n",
    "*Goal: Learn how to combine individual classifiers into a single, multiplex classifier. Also, learn how to interpret and work with the output of that multiplex classifier.*"
   ]
  },
  {
   "cell_type": "markdown",
   "id": "9d82b5ab",
   "metadata": {},
   "source": [
    "## 1. Combining Classifiers\n",
    "1. If you did not complete the 3 classifiers in the last session, download the project \"Proj1 - Session 8\" and open it. This has a version of the classifiers we will need moving forward.\n",
    "2. We can view the cell classifiers we have created by going to `Classify > Object classification > Load object classifier`. \n",
    "    - Click on CD4_CD8 and hit <kbd>Apply classifier</kbd><br>\n",
    "    <img src=\"Images/ApplyClassifier.PNG\">\n",
    "    (Your colors may be different)<br>\n",
    "    - After, if you apply a different one, you lose the CD4 CD8 results. \n",
    "3. To combine the classifiers to get all results simultaneously: `Classify > Object classification > Create composite classifier`\n",
    "    1. Select the CD4_CD8 and click <kbd> > </kbd> to move it to the Selected list\n",
    "    2. Repeat for FoxP3 and PD1. \n",
    "    3. The order that you add the classifiers will determine the final order of how the cells are named. For example \"CD4: FoxP3: PD1\" vs \"FoxP3: PD1: CD4\". It will NOT affect the actual cell counts. \n",
    "    4. Give the new, combined classifier an informative name and click <kbd>Save & apply</kbd><br>\n",
    "    <img src=\"Images/CreateCompositeClassifier.PNG\">\n",
    " "
   ]
  },
  {
   "cell_type": "markdown",
   "id": "44fc6862",
   "metadata": {},
   "source": [
    "## 2. Composite classifier results\n",
    "1. Click on the Region* annotation and look at the Annotations tab bottom window<br>\n",
    "<img src=\"Images/MultiplexCellCounts.PNG\"><br>\n",
    "    - This is the list of the number of cells inside that region that are positive for **exactly those markers and no others.**  In this example there are 711 cells that are CD8+ CD4- PD1- FoxP3-. \n",
    "    - The total number of CD8+ cells is: <br> $711 (CD8) + 20 (CD8:FoxP3) + 1 (CD8:FoxP3:PD1) + 93 (CD8:PD1) = 825 (CD8s)$\n",
    "  <br><br>\n",
    "\n",
    "\n",
    "### Investigating unexpected results\n",
    "Some classes are unexpected (eg CD8+FoxP3+). Artifact or discovery? *Let's investigate!* <br>\n",
    "\n",
    "2. In the class list in the Annotation tab, `right click > Populate from existing objects > All classes (including subclasses)`. Click <kbd>Yes</kbd> on  \"Keep existing classes\"<br>\n",
    "<img src=\"Images/PopulateAllClasses.PNG\">\n",
    "3. Select \"CD8: FoxP3\" (or whichever order your cells are named in) and `right click > Select objects by classification`'\n",
    "4. Zoom-in on a highlighted cell. Is it really CD8+ and/or FoxP3? Check a few cells. The Channel Viewer (`View > Show channel viewer`) can be very helpful here!\n",
    "5. If you have many cells of this type, chances are there is a problem with either your segmentation or the CD8 or FoxP3 classifiers. Examples:\n",
    "    - CD4+FoxP3+ cell incorrectly called CD8+. If you have many of these, you need to go back to the CD4_CD8 training and make it more accurate!<br>\n",
    "    <img src=\"Images/CD8Error.PNG\"> <br>\n",
    "    - This is 1 object encircling 2 cells (CD8+ and CD4+FoxP3+). Segmentation errors are difficult to fix at this point!<br>\n",
    "    <img src=\"Images/Doublet.PNG\"> <br>\n",
    "6. But, don't automatically dismiss all unexpected combinations! Sometimes they are real!<br>\n",
    "<img src=\"Images/CD8FoxP3.PNG\">\n",
    "\n",
    " \n",
    "    \n",
    " \n"
   ]
  },
  {
   "cell_type": "markdown",
   "id": "964978ad",
   "metadata": {},
   "source": [
    "### Easier class visibilty control\n",
    "We only have 12 classes of cells, but mIF images can generate hundreds. Here's an easier way of controlling which cells are on or off at a time. \n",
    "\n",
    "1. In [Session 1](./Session%2001-%20Visualization.ipynb#7.-Display-channel-names-and-colors-for-presentations), we set up your Scripts directory, with scripts downloaded from [Google Drive.](https://drive.google.com/drive/folders/1t5DtJriZdPpNpuVJBMACkN3Ra16QUjKu) Now, you can go to `Automate > Shared scripts > ClassVisibilityUI`\n",
    "\n",
    "2. In the Script editor window, click `Run > Run`\n",
    "3. You can far more easily control which cells are showing.\n",
    "\n",
    "4. Note that this script does not interact well with controlling class visibility through the standard GUI! \n",
    "\n",
    "<img src=\"Images/ClassVisibilityUI.gif\"><br>\n",
    "Consider that with one class, you have two options, positive or negative. 2^1<br>\n",
    "With two classes, you have four options, 2 single positive, one double positive, and one negative. 2^2 = 4.<br>\n",
    "With 12 classes, assuming every class was present, you could have 2^12=4096 possible classes! Classifications by channel quickly get out of hand."
   ]
  },
  {
   "cell_type": "markdown",
   "id": "8f9b401d",
   "metadata": {},
   "source": [
    "### Easier cell finding\n",
    "You can use the Detection Measurements table to more easily pinpoint cells of interest\n",
    "\n",
    "1. Click on the \"Show Measurements Table\" icon \n",
    "<img src=\"Images/MeasurementsTable.PNG\">\n",
    "\n",
    "2. Select `Show detection measurements`\n",
    "\n",
    "3. Filter the table by the class of cells: `Right click > Show class > CD8`\n",
    "4. Sort the table by the Classifications column by clicking on it to group the cells by CD8 subtype\n",
    "5. Scroll until you see the CD8: FoxP3 cells (or FoxP3: CD8)\n",
    "6. **Double click** on each to highlight and center it. You will need to zoom in to see the cell.<br> \n",
    "\n",
    "<img src=\"Images/FindingCellsTable.gif\">"
   ]
  },
  {
   "cell_type": "markdown",
   "id": "62091dc3",
   "metadata": {},
   "source": [
    "## 3. Applying the classifier to all images\n",
    "For the next step (data export) we'll need all of the cells in all 3 images to be phenotyped. To do that, you must repeat the measurements and the classifier on the other 2 images.  **Reminder: in a real project, you should train your classifiers on multiple images.** There are two methods for duplicating the measurement step that are functionally the same; pick your favorite:\n",
    "\n",
    "### Manual work\n",
    "1. In the current image, find the step in the Workflow in which we [meausured the T cell related features.](./Session%2007%20-%20More%20Difficult%20Classifiers.ipynb#2.-Training-classifiers-for-T-cell-subsets) It will likely be one of the later \"Compute Intensity features\" entries. \n",
    "2. Double click on that entry to bring up the \"Compute intensity features\" window with all choices pre-populated. Make sure it has the CD4, CD8a, FoxP3, and PD1 channels selected, with the Mean, Standard deviation, Min & Max, and Haralick features checked (see link above). Leave this window open.\n",
    "3. Open one of the two remaining images. \n",
    "4. In the still open \"Compute intensity features\" window, click <kbd>Run</kbd>\n",
    "5. You will get a popup asking which objects you want to measure. Select \"Cells\" and hit <kbd>OK</kbd>\n",
    "6. Load the multiplex classifier. `Classify > Object classification > Load object classifier`. Select \"CD4_CD8_FoxP3_PD1\" and click <kbd>Apply classifier</kbd>.\n",
    "7. Repeat steps 4-6 with the third image. \n",
    "\n",
    "### Scripting\n",
    "1. In the current image, find the step in the Workflow in which we [measured the T cell related features.](./Session%2007%20-%20More%20Difficult%20Classifiers.ipynb#2.-Training-classifiers-for-T-cell-subsets). \n",
    "2. Right click on it > \"Copy command\"\n",
    "3. If not already open, open the Scripting window with `Automate > Script editor`\n",
    "4. Create a new script document with `File > New` (inside Script editor window)\n",
    "5. Paste the command you just copied\n",
    "6. Above that line (new line 1) write: `selectCells()`\n",
    "7. Below that line (line 3), write: `runObjectClassifier(\"CD4_CD8_FoxP3_PD1\")` but replace the name inside the parenthesis with whatever you named your classifier. Spelling, capitalization, punctuation, and outer apostrophes all matter.\n",
    "    1. Alternatively, find the command for running the classifier in the workflow tab, and copy-paste it. \n",
    "8. Save this. Then, `Run > Run for project` for the two remaining images\n"
   ]
  }
 ],
 "metadata": {
  "kernelspec": {
   "display_name": "Python 3 (ipykernel)",
   "language": "python",
   "name": "python3"
  },
  "language_info": {
   "codemirror_mode": {
    "name": "ipython",
    "version": 3
   },
   "file_extension": ".py",
   "mimetype": "text/x-python",
   "name": "python",
   "nbconvert_exporter": "python",
   "pygments_lexer": "ipython3",
   "version": "3.13.1"
  }
 },
 "nbformat": 4,
 "nbformat_minor": 5
}
