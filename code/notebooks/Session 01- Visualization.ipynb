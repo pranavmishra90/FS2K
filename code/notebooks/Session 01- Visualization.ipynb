{
 "cells": [
  {
   "cell_type": "markdown",
   "id": "d42599c7",
   "metadata": {},
   "source": [
    "# Session 1- Getting Started\n",
    "*Goal: How to set up a project, view multiplex files, and export images*"
   ]
  },
  {
   "cell_type": "markdown",
   "id": "2b1f7e48-3845-479e-8f2c-9fa4b9a54118",
   "metadata": {},
   "source": [
    "## 1. Create a Project.\n",
    "The first step in any QuPath work is to create a \"Project\", which is a folder that will hold all of the files QuPath needs.\n",
    "    \n",
    "1. Create an **empty** folder (if you place the images into the folder first, it will not work!).\n",
    "2. Drag the folder into QuPath. Click <kbd>Yes</kbd> to create project.\n",
    "3. Drag the 3 lung images (from Google Drive) into the open QuPath window.\n",
    "   <br><br>\n",
    "<img src= \"Images/CreateProject.gif\" width=\"600\"><br>"
   ]
  },
  {
   "attachments": {},
   "cell_type": "markdown",
   "id": "06c8e4dc-3c4b-4c05-b93c-f56c0ec202c7",
   "metadata": {
    "jp-MarkdownHeadingCollapsed": true
   },
   "source": [
    "## 2. Open an image \n",
    "1. Double click LungImg2.ome.tiff to open. You'll see this message: <br> ![imageType.png](Images/imageType.png)\n",
    "    - It may take some time to open the image for the first time!<br>\n",
    "    - Change to auto-estimate and hit apply<br>\n",
    "    - It will look too bright! We'll fix that next<br>\n",
    "<br><br>\n",
    "<img src= \"Images/OpenImageBC.gif\" width=\"600\"><br>"
   ]
  },
  {
   "cell_type": "markdown",
   "id": "74e1dcdc-f202-4545-865b-233fefeb03d8",
   "metadata": {},
   "source": [
    "## 3. Adjust Visualization Settings <br>\n",
    "\n",
    "1. Open 'Brightness/Contrast'<br> <img src= \"Images/BrightnessContrast.png\"> <br><br>\n",
    "2. Click 'Show Grayscale'<br>\n",
    "<img src= \"Images/BrightnessContrastSettings.png\">\n",
    "3. Make sure the Hoescht channel (at the top of the list) is selected<br>\n",
    "4. Look at the open image and zoom in (mouse wheel). Adjust Minimum and Maximum until the non-tissue background is gone and nuclei are just saturated enough. <br>\n",
    "\n",
    "5. Repeat for all channels.<br>\n",
    "    - For blank channels (Argo874 and Argo890), I like to move both the min and max to a very high value so that they are never accidentally displayed.<br>\n",
    "    - Biological insight is *essential* to setting display settings correctly. LAG3 is very rare and punctate, S100 is very common and broad. In your own projects, make sure you know what to expect.\n",
    "    - It is very common for there to be a large spike in the histogram near the left side - this usually represents a large number of background pixels, so you will want the minimum to be set to the right of this spike.\n",
    "<img src= \"Images/ChannelAdjustmentStart.gif\" width = \"800\"><br>\n",
    "6. Uncheck 'Show Grayscale'<br>\n",
    "7. Turn on everything except the blank channels by clicking on the +/- box next to Show and then uncheck individual channel boxes after.\n",
    "<img src= \"Images/BrightnessContrastShow-.png\"> <br>\n",
    "<br>\n",
    "<img src= \"Images/channelAdjustmentFinal.gif\" width = \"800\"><br>\n",
    "<br>\n",
    "8.  It should look better, but there will still be confusion between channels. That's ok, we'll fix it next. Save the Display Settings.<br>\n",
    "<img src= \"Images/BrightnessContrastSave.png\"> <br>\n",
    "\n",
    "\n",
    "\n",
    "<img src= \"Images/SaveChannelSettings.gif\" width = \"800\"><br>\n",
    "\n",
    "\n",
    "9. In the Projects Tab, right click on the image thumbnail. Click `Refresh Thumbnail` to get a prettier / more descriptive Project Tab entry.\n",
    "\n",
    "<img src= \"Images/RefreshThumbnail.PNG\" width = \"200\"><br>\n",
    "\n"
   ]
  },
  {
   "cell_type": "markdown",
   "id": "8fedb5aa-b4dd-4262-8c52-3fbc7ed51a26",
   "metadata": {},
   "source": [
    "## 4. Create sets of visualization settings  <br>\n",
    "1. Select a combination of channels that is relevant for different biological processes- Cancer, T cells, Myeloid, etc. Turn those on and the rest off. Some recommendations for those unfamiliar with immune markers:\n",
    "    - Cancer: S100a, Hoechst, AF1, PDL1\n",
    "    - T cells: CD45, CD4, CD8, FoxP3\n",
    "    - Myeloid: CD68, CD163, AF1\n",
    "  <br><br>\n",
    "2. Adjust the settings so to maximize clarity for that combination.\n",
    "    - Click on colored square to change channel color. <br> \n",
    "    - Play with gamma to see how it changes, but be careful! Adjusting the gamma in scientific publications can be seen as fraudulent behavior when not reported!<br>\n",
    "    <img src=\"Images/ChannelColor.gif\">\n",
    "3. Save the display settings descriptive names of channels or biological meaning. Then, repeat for a few more combos. <br>\n"
   ]
  },
  {
   "cell_type": "markdown",
   "id": "ce1534e5",
   "metadata": {},
   "source": [
    "<a id='Exporting-Regions'></a>\n",
    "\n",
    "## 5. Exporting Region Images<br>\n",
    "Use these steps for manuscripts or PowerPoint presentations. Exporting images for further scientific processing is more involved and covered separately. <br>\n",
    "1. Create Annotation Regions <br>\n",
    "    1. `Objects > Annotations > Specify Annotation`<br>\n",
    "    <img src= \"Images/SpecifyAnnotation.png\"> <br><br>\n",
    "    <img src= \"Images/CreateSpecificAnnotation.gif\" width = \"800\"><br>\n",
    "    2. Check 'Use um' and type the width and length (Note: the values in the image above may be too large for your image)<br>\n",
    "    3. Give it a name<br>\n",
    "    4. Click “Add annotation”<br>\n",
    "2. Move the created box to somewhere interesting by double clicking within the annotation box, then left clicking and dragging.<br>\n",
    "3. With rectangle selected, `File > Export images > Rendered RGB (with overlays)`<br>\n",
    "    <img src= \"Images/ExportRegion.PNG\"><br>\n",
    "\n"
   ]
  },
  {
   "cell_type": "markdown",
   "id": "381e2290",
   "metadata": {},
   "source": [
    "## 6. Viewing Options\n",
    "\n",
    "### Channel Viewer\n",
    "Any time you have more than 3 channels, it is impossible to clearly differentiate all potential overlapping colors. The channel viewer can help clear up confusion by showing the channels independently. \n",
    "\n",
    "1. Open the channel viewer with `View > Show channel viewer`\n",
    "  1. Adjust the Zoom level by right clicking inside the channel viewer > Zoom > 200%\n",
    "  2. Adjust the Field-of-view by expanding the window\n",
    "  3. Turn on and off channels in the B/C settings and watch it immediately update!\n",
    "  \n",
    "  <img src=\"Images/ChannelViewer.PNG\">"
   ]
  },
  {
   "cell_type": "markdown",
   "id": "7bbf9dd8",
   "metadata": {},
   "source": [
    "### Channel names and colors for presentations pop up<br>\n",
    "1. First, you should set up your scripts folder.\n",
    "    1. Settings - the icon should be in the upper right and look like this! <br>\n",
    "    <img src= \"Images/Settings.png\"><br>\n",
    "    If your monitor resolution is too low or QuPath window too small, you may need to click on the >> at the top right of QuPath to show this button, and others.<br>\n",
    "    2. Search for “script” and select the \"Scripting\" dropdown<br>\n",
    "    3. Set Script Directory - this should be somewhere on your computer where you can store a set of small text files that you can access from any QuPath project.<br>\n",
    "    <img src= \"Images/SettingsScriptDirectory.png\"><br>\n",
    "    4. In the [Google Drive](https://drive.google.com/drive/folders/1t5DtJriZdPpNpuVJBMACkN3Ra16QUjKu) folder with the image data, there is a Scripts subfolder. Put everything there into the Script Directory you just set. <br>\n",
    "2. Find the script for displaying channels: `Automate > Shared Scripts > ChannelNames` <br>\n",
    "    1. In Automation window, `Run > Run`<br>  \n",
    "    <img src= \"Images/RunRun.PNG\">\n",
    "    2. Results: <br>\n",
    "    <img src= \"Images/ChannelNames.PNG\"> \n",
    "3. To export the image along with the names: `File > Export Snapshot > Main Window Screenshot`<br>\n",
    "  - Good enough for a presentation, not good enough for a manuscript!"
   ]
  }
 ],
 "metadata": {
  "kernelspec": {
   "display_name": "Python 3 (ipykernel)",
   "language": "python",
   "name": "python3"
  },
  "language_info": {
   "codemirror_mode": {
    "name": "ipython",
    "version": 3
   },
   "file_extension": ".py",
   "mimetype": "text/x-python",
   "name": "python",
   "nbconvert_exporter": "python",
   "pygments_lexer": "ipython3",
   "version": "3.9.7"
  }
 },
 "nbformat": 4,
 "nbformat_minor": 5
}
