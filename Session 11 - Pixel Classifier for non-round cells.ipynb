{
 "cells": [
  {
   "cell_type": "markdown",
   "id": "d7823682",
   "metadata": {},
   "source": [
    "# Session 11 - Non-round cells or other objects\n",
    "*Goal: learn how to use a pixel classifier to detect oddly shaped cells not well captured by other methods*"
   ]
  },
  {
   "cell_type": "markdown",
   "id": "fd414ac7",
   "metadata": {},
   "source": [
    "Myeloid cells are notoriously difficult to segment. They come in a wide variety of shapes and sizes, have processes stuck between other cells, and are not centered on a single nucleus. Here is an example of a single myeloid cell in the tonsil that InstanSeg segmented into 6 separate cells (even though it did a great job on all the rest of the tonsil!)\n",
    "\n",
    "<img src=\"Images/TonsilMac.gif\" width=\"300\">\n",
    "\n",
    "\n",
    "To properly segment cells like these, we will need to use a [pixel classifier](./Session%203-%20Pixel%20Classifier.ipynb#2.-Train-a-Classifier) combined with an [object classifier](./Session%206%20-%20Classifying%20Cells%20pt1.ipynb). \n",
    "\n",
    "### 1. Train a pixel classifier for Tingible Body Macrophages\n",
    "1. Open Tonsil_flip.ome.tif. We do not need the HE overlay for this step. \n",
    "2. Turn on the Hoechst, CD11c, CD68, and CD163 channels. Pick a combination of channel colors that lets you see the 3 markers. Name this display setting \"Myeloid\" <br>\n",
    "    <img src=\"Images/Myeloid.PNG\">\n",
    "3. Clean up the class list. \n",
    "    1. In the Annotation tab, right click on the class list > `Reset to default classes`\n",
    "    2. Add the class \"TBMacs\"\n",
    "4. [Annotate examples](./Session%206%20-%20Classifying%20Cells%20pt1.ipynb#3.-Finding-Leukocytes---Training-an-ML-Object-Classifier) of TBMacs (blue and yellow). Use Ignore* for the background class.\n",
    "    - Make sure you provide TBMacs examples of both the cell border (CD11c+) and cell cytoplasm (CD68+)\n",
    "    - Focus a lot on the thin/dim cell arms and the edges of the cells\n",
    "5. When you have a classifier you are satisfied with, save it as TBMacs. If you are unable to get a reasonable classifier in time, download \"Proj2- Overlay and Classifiers\" from the BackUp Projects folder and use the one already there. \n",
    "\n",
    "    "
   ]
  },
  {
   "cell_type": "markdown",
   "id": "93b5b537",
   "metadata": {},
   "source": [
    "## 2. Create Detections from Pixel Classifier\n",
    "1. Save the file. Duplicate the image, saving the new copy as \"TBMac training\"\n",
    "2. Delete all annotations. \n",
    "3. Create a full image annotation. `Objects > Annotations > Create full image annotation` or <kbd>Ctrl</kbd>+<kbd>Shift</kbd>+<kbd>A</kbd>\n",
    "2. In the Pixel classifier window, click <kbd>Create objects</kbd>\n",
    "    1. Parent Objects: Selected Object\n",
    "    2.  Use these settings: <br>\n",
    "    <img src=\"Images/MacDetections.PNG\">\n",
    "3. Close the Pixel classifier window. You should now see ~thousands of potential TBMac objects, including both the cells of interest and other CD11c+ cells that are not tingible body macrophages. \n",
    "    <img src=\"Images/Macs_Raw.PNG\">\n",
    "4. Save the file!"
   ]
  },
  {
   "cell_type": "markdown",
   "id": "d606164f",
   "metadata": {},
   "source": [
    "## 3. Use an object classifier to identify the cells of interest\n",
    "We are going to use an object classifier to separate the detection objects that represent true TBMacs from other myeloid cells. This is similar to the cell classification we did in Session 6, but the detections start with no measurements, so we'll have to create some.\n",
    "\n",
    "1. Select the cells: `Objects > Select > Select all detections` or press <kbd>Ctrl</kbd>+<kbd>Alt</kbd>+<kbd>D</kbd>\n",
    "2. `Analyze > Calculate Features > Add shape features`  \n",
    "    - Leave everything checked and hit <kbd>Apply</kbd> <br>\n",
    "3. `Analyze > Calculate Features > Add intensity features`. Suggested features:\n",
    "    - Pixel size: 0.65 um\n",
    "    - Channels: Hoechst, AF1, CD11c, CD68, CD163, CD45, Vimentin\n",
    "    - Features: Mean, Standard deviation, Min & Max <br>\n",
    "4. Select the full image rectange. `Analyze > Calculate Features > Add smoothed features`\n",
    "    - Radius (FWHM): 100 um <br>\n",
    "5. As in [Session 6](./Session%206%20-%20Classifying%20Cells%20pt1.ipynb#3.-Finding-Leukocytes---Training-an-ML-Object-Classifier), train an object classifier. Use the classes TBMac and Other. \n",
    "    - Remember to choose only the useful features!\n",
    "    - Save the classifier as \"TBMacs_obj\" <br>\n",
    "    \n",
    "<img src=\"Images/MacsClassified.PNG\">\n",
    "\n",
    "6. Clean up. \n",
    "    1. Save the file! \n",
    "    2. Duplicate the image as \"TBMacs_obj training\"\n",
    "    3. Delete all of the training annotatinons"
   ]
  }
 ],
 "metadata": {
  "kernelspec": {
   "display_name": "Python 3 (ipykernel)",
   "language": "python",
   "name": "python3"
  },
  "language_info": {
   "codemirror_mode": {
    "name": "ipython",
    "version": 3
   },
   "file_extension": ".py",
   "mimetype": "text/x-python",
   "name": "python",
   "nbconvert_exporter": "python",
   "pygments_lexer": "ipython3",
   "version": "3.9.7"
  }
 },
 "nbformat": 4,
 "nbformat_minor": 5
}
