{
 "cells": [
  {
   "cell_type": "markdown",
   "id": "6f65e2b4",
   "metadata": {},
   "source": [
    "# Session 8 - Creating Multiplex Classifiers \n",
    "*Goal: Learn how to combine individual classifiers into a single, multiplex classifier. Also, learn how to interpret and work with the output of that multiplex classifier.*"
   ]
  },
  {
   "cell_type": "markdown",
   "id": "9d82b5ab",
   "metadata": {},
   "source": [
    "## 1. Combining Classifiers\n",
    "1. If you did not complete the 3 classifiers in the last session, download the project \"Proj1 - Session 8\" and open it. This has a version of the classifiers we will need moving forward.\n",
    "2. We can view the cell classifiers we have created by going to `Classify > Object classification > Load object classifier`. \n",
    "  - Click on CD4_CD8 and hit <kbd>Apply classifier</kbd>\n",
    "  <img src=\"Images/ApplyClassifier.PNG\">\n",
    "  (Your colors may be different)\n",
    "  <br>\n",
    "  - But if you apply a different one, we lose the CD4 CD8 results. \n",
    "3. To combine the classifiers: `Classify > Object classification > Create composite classifier`\n",
    "  1. Select the CD4_CD8 and click <kbd> > </kbd> to move it to the Selected list\n",
    "  2. Repeat for FoxP3 and PD1. \n",
    "  3. The order that you add the classifiers will determine the final order of how the cells are named. For example \"CD4: FoxP3: PD1\" vs \"FoxP3: PD1: CD4\". It will NOT affect the actual cell counts. \n",
    "  4. Give the new, combined classifier an informative name and click <kbd>Save & apply</kbd>\n",
    "    <img src=\"Images/CreateCompositeClassifier.PNG\">\n",
    " "
   ]
  },
  {
   "cell_type": "markdown",
   "id": "44fc6862",
   "metadata": {},
   "source": [
    "## 2. Composite classifier results\n",
    "1. Click on the Region* annotation and look at the Annotations tab bottom window\n",
    "  <img src=\"Images/MultiplexCellCounts.PNG\">\n",
    "  - This is the list of the number of cells inside that region that are positive for **exactly those markers and no others.**  In this example there are 711 cells that are CD8+ CD4- PD1- FoxP3-. \n",
    "  - The total number of CD8+ cells is: <br> $711 (CD8) + 20 (CD8:FoxP3) + 1 (CD8:FoxP3:PD1) + 93 (CD8:PD1) = 825 (CD8s)$\n",
    "  <br><br>\n",
    "\n",
    "\n",
    "### Investigating unexpected results\n",
    "Some classes are unexpected (eg CD8+FoxP3+). Artifact or discovery? *Let's investigate!* <br>\n",
    "\n",
    "2. In the class list in the Annotation tab, `right click > Populate from existing objects > All classes (including subclasses)`. Click <kbd>Yes</kbd> on  \"Keep existing classes\"\n",
    "    <img src=\"Images/PopulateAllClasses.PNG\">\n",
    "3. Select \"CD8: FoxP3\" (or whichever order your cells are named in) and `right click > Select objects by classification`'\n",
    "4. Zoom-in on a highlighted cell. Is it really CD8+ and/or FoxP3? Check a few cells. The Channel Viewer (`View > Show channel viewer`) can be very helpful here!\n",
    "5. If you have many cells of this type, chances are there is a problem with either your segmentation or the CD8 or FoxP3 classifiers. Examples:\n",
    "    - CD4+FoxP3+ cell incorrectly called CD8+. If you have many of these, you need to go back to the CD4_CD8 training and make it more accurate!\n",
    "     <img src=\"Images/CD8Error.PNG\"> <br>\n",
    "    - This is 1 object encircling 2 cells (CD8+ and CD4+FoxP3+). Segmentation errors are difficult to fix at this point!\n",
    "    <img src=\"Images/Doublet.PNG\"> <br>\n",
    "6. But, don't automatically dismiss all unexpected combinations! Sometimes their are real!\n",
    "  <img src=\"Images/CD8FoxP3.PNG\">\n",
    "\n",
    " \n",
    "    \n",
    " \n"
   ]
  },
  {
   "cell_type": "markdown",
   "id": "964978ad",
   "metadata": {},
   "source": [
    "### Easier class visibilty control\n",
    "We only have 12 classes of cells, but mIF images can generate hundreds. Here's an easier way of controlling which cells are on or off at a time. \n",
    "\n",
    "1. In [Session 1](./Session%201-%20Visualization.ipynb#7.-Display-channel-names-and-colors-for-presentations), we set up your Scripts directory, with scripts downloaded from [Google Drive.](https://drive.google.com/drive/folders/1t5DtJriZdPpNpuVJBMACkN3Ra16QUjKu) Now, you can go to `Automate > Shared scripts > ClassVisibilityUI`\n",
    "\n",
    "2. In the Script editor window, click `Run > Run`\n",
    "3. You can far more easily control which cells are showing. \n",
    "\n",
    "<img src=\"Images/ClassVisibilityUI.gif\">\n",
    "\n"
   ]
  }
 ],
 "metadata": {
  "kernelspec": {
   "display_name": "Python 3 (ipykernel)",
   "language": "python",
   "name": "python3"
  },
  "language_info": {
   "codemirror_mode": {
    "name": "ipython",
    "version": 3
   },
   "file_extension": ".py",
   "mimetype": "text/x-python",
   "name": "python",
   "nbconvert_exporter": "python",
   "pygments_lexer": "ipython3",
   "version": "3.9.7"
  }
 },
 "nbformat": 4,
 "nbformat_minor": 5
}
