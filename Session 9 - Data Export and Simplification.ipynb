{
 "cells": [
  {
   "cell_type": "markdown",
   "id": "8bcc6191",
   "metadata": {},
   "source": [
    "# Session 9- Data export and simplification\n",
    "*Goal: Learn how to get your data out of QuPath and into a manuscript*"
   ]
  },
  {
   "cell_type": "code",
   "execution_count": null,
   "id": "f73bf95d",
   "metadata": {},
   "outputs": [],
   "source": []
  }
 ],
 "metadata": {
  "kernelspec": {
   "display_name": "Python 3 (ipykernel)",
   "language": "python",
   "name": "python3"
  },
  "language_info": {
   "codemirror_mode": {
    "name": "ipython",
    "version": 3
   },
   "file_extension": ".py",
   "mimetype": "text/x-python",
   "name": "python",
   "nbconvert_exporter": "python",
   "pygments_lexer": "ipython3",
   "version": "3.9.7"
  }
 },
 "nbformat": 4,
 "nbformat_minor": 5
}
