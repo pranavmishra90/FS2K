{
 "cells": [
  {
   "cell_type": "markdown",
   "id": "ed09bc1b",
   "metadata": {},
   "source": [
    "# Session 9- Data export and simplification\n",
    "*Goal: Learn how to get your data out of QuPath and into a manuscript*"
   ]
  },
  {
   "cell_type": "markdown",
   "id": "06864433",
   "metadata": {},
   "source": [
    "# Exporting Cell Counts\n",
    "1. Make sure you have a project in which you successfully ran the multiplex classifier on all 3 lung images. If you did not complete this, open \"Proj1 - Session 9\" from the backup projects folder.\n",
    "\n",
    "2. Save your current image `File > Save`. Data export will not work properly without saving first\n",
    "\n",
    "3. `Measure > Export measurements`\n",
    "4. Select the 3 finished images and click the carrot <kbd> > </kbd> to select them for export\n",
    "    - You'll likely get a red warning message reminding you to save. It's OK, it's always there.\n",
    "5. Click <kbd>Choose</kbd> next to \"Output file\". Give the new file the name \"Annotations Measurements\"\n",
    "6. In the dropdown, choose Export type = \"Annotations\"\n",
    "7. Choose the file separator you want. In the US, \"comma (.csv)\" is standard. \n",
    "8. Click <kbd>Export</kbd>. The export should take <<1 min. \n",
    "<img src=\"Images/ExportAnnotations.PNG\">\n",
    "\n",
    "\n",
    "This produces a spreadsheet with 1 row per annotation (full tissue region and tumor) in each image. Each row contains the information you see in the Annotation tab when you select an annotation. \n",
    "\n",
    "## Working with the data in Excel\n",
    "1. Open the created .csv file in your spreadsheet program of choice (Excel, Google Sheets, Libre Office Calc, etc). I'm using Excel.\n",
    "<img src=\"Images/AnnotMeasurementsRaw.PNG\">\n",
    "\n",
    "2. To simplify, delete the following columns:\n",
    "    - Object ID\n",
    "    - Object type\n",
    "    - Name\n",
    "    - Parent\n",
    "    - ROI\n",
    "    - Centroid X\n",
    "    - Centroid Y\n",
    "    - Perimeter\n",
    "3. Create the following column headers:\n",
    "    - Num CD4\n",
    "    - Num CD8\n",
    "    - Num T cells\n",
    "    - Tcell / mm2\n",
    "    - CD4%\n",
    "4. We're going to calculate those metrics for all 6 annotations. \n",
    "    1. To calculate the total number of CD4 cells, you must add the cell counts in any category that says CD4 (CD4, CD4: FoxP3, CD4: FoxP3: PD1, CD4: PD1)\n",
    "    <img src=\"Images/SumCD4.PNG\">\n",
    "    2. Repeat for CD8s\n",
    "    3. Add the CD4 and CD8 cell counts to find total T cells. *(For the immunologists: relax, this is a simplification for example purposes.)*\n",
    "    <img src=\"Images/TcellCount.PNG\">\n",
    "    4. Divide the T cell count by the area to find T cell density: $Num Tcells / Area (um^2) *1000000 = Tcells / mm^2$\n",
    "    <img src=\"Images/TcellDensity.PNG\">\n",
    "    5.  Calculate CD4% of all T cells as $Num CD4 / Num Tcells * 100 = CD4\\% $\n",
    "    <img src=\"Images/CD4Pct.PNG\">\n",
    "    \n",
    "5. Similar procedures could be used to find the frequency of FoxP3s among CD4s or the frequency of PD1 among CD8s. \n",
    "    \n",
    "\n",
    "\n"
   ]
  },
  {
   "cell_type": "code",
   "execution_count": null,
   "id": "035b14de",
   "metadata": {},
   "outputs": [],
   "source": []
  }
 ],
 "metadata": {
  "kernelspec": {
   "display_name": "Python 3 (ipykernel)",
   "language": "python",
   "name": "python3"
  },
  "language_info": {
   "codemirror_mode": {
    "name": "ipython",
    "version": 3
   },
   "file_extension": ".py",
   "mimetype": "text/x-python",
   "name": "python",
   "nbconvert_exporter": "python",
   "pygments_lexer": "ipython3",
   "version": "3.9.7"
  }
 },
 "nbformat": 4,
 "nbformat_minor": 5
}
