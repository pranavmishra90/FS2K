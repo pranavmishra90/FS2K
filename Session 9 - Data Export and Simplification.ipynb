{
 "cells": [
  {
   "cell_type": "markdown",
   "id": "b3b8aea4",
   "metadata": {},
   "source": [
    "# Session 9- Data export and simplification\n",
    "*Goal: Learn how to get your data out of QuPath and into a manuscript*"
   ]
  },
  {
   "cell_type": "markdown",
   "id": "1eee68c2",
   "metadata": {},
   "source": [
    "# Exporting Cell Counts\n",
    "1. Make sure you have a project in which you successfully ran the multiplex classifier on all 3 lung images. If you did not complete this, open \"Proj1 - Session 9\" from the backup projects folder.\n",
    "2. Save your current image `File > Save`. Data export will not work properly without saving first!\n",
    "3. `Measure > Export measurements`\n",
    "4. Select the 3 finished images and click the carrot <kbd> > </kbd> to select them for export\n",
    "    - You'll likely get a <span style=\"color:red\">red warning message</span> reminding you to save. It's OK, it's always there - but is a valid warning since a fresh cell detection, or any changes you make to the current image before saving, will not be represented in your exported data.\n",
    "5. Click <kbd>Choose</kbd> next to \"Output file\". Give the new file the name \"Annotations Measurements\"\n",
    "6. In the dropdown, choose Export type = \"Annotations\"\n",
    "7. Choose the file separator you want. In the US, \"comma (.csv)\" is standard. \n",
    "8. Click <kbd>Export</kbd>. The export should take <<1 min. This produces a spreadsheet with 1 row per annotation (full tissue region and tumor) in each image. Each row contains the information you see in the Annotation tab when you select an annotation. \n",
    "<img src=\"Images/ExportAnnotations.PNG\"> \n",
    "\n",
    "## Working with the annotation data in Excel\n",
    "1. Open the created .csv file in your spreadsheet program of choice (Excel, Google Sheets, Libre Office Calc, etc). I'm using Excel.<img src=\"Images/AnnotMeasurementsRaw.PNG\">\n",
    "\n",
    "2. To simplify, delete the following columns:\n",
    "    - Object ID\n",
    "    - Object type\n",
    "    - Name\n",
    "    - Parent\n",
    "    - ROI\n",
    "    - Centroid X\n",
    "    - Centroid Y\n",
    "    - Perimeter\n",
    "3. Create the following column headers:\n",
    "    - Num CD4\n",
    "    - Num CD8\n",
    "    - Num T cells\n",
    "    - Tcell / mm2\n",
    "    - CD4%\n",
    "4. We're going to calculate those metrics for all 6 annotations. \n",
    "    1. To calculate the total number of CD4 cells, you must add the cell counts in any category that says CD4 (CD4, CD4: FoxP3, CD4: FoxP3: PD1, CD4: PD1)<br>\n",
    "    <img src=\"Images/SumCD4.PNG\">\n",
    "    2. Repeat for CD8s\n",
    "    <img src=\"Images/SumCD8.PNG\">\n",
    "    3. Add the CD4 and CD8 cell counts to find total T cells. *(For the immunologists: relax, this is a simplification for example purposes.)*<br>\n",
    "    <img src=\"Images/TcellCount.PNG\">\n",
    "    4. Divide the T cell count by the area to find T cell density: $Num Tcells / Area (um^2) *1000000 = Tcells / mm^2$<br>\n",
    "    <img src=\"Images/TcellDensity.PNG\">\n",
    "    5.  Calculate CD4% of all T cells as $Num CD4 / Num Tcells * 100 = CD4\\% $<br>\n",
    "    <img src=\"Images/CD4Pct.PNG\">\n",
    "    6. Select all of the newly calculated metrics and drop down to fill in for all tissues<br>\n",
    "    <img src=\"Images/DropDown.gif\">\n",
    "    \n",
    "5. Similar procedures could be used to find the frequency of FoxP3s among CD4s or the frequency of PD1 among CD8s, etc. \n",
    "6. Sort the data by the Classification column to separate the full tissue and the tumor-only. \n",
    "7. To calculate the cells outside the tumor only, subtract the cell counts in each tumor from the match tissue region.\n"
   ]
  },
  {
   "cell_type": "markdown",
   "id": "8dce40ec",
   "metadata": {},
   "source": [
    "# Exporting Individual Cell Measurements\n",
    "Sometimes, instead of needing the total fraction of positive cells in an area, we need the distribution of cell measurements. \n",
    "\n",
    "1. Back in QuPath: `Measure > Export measurements`\n",
    "2. Select the 3 finished images and click the carrot <kbd> > </kbd> to select them for export\n",
    "3. Click <kbd>Choose</kbd> next to \"Output file\". Give the new file the name \"Cell Measurements\"\n",
    "4. In the dropdown, choose Export type = \"Detections\"\n",
    "5. Choose the file separator you want. In the US, \"comma (.csv)\" is standard. \n",
    "6. Click <kbd>Populate</kbd>. Then, in the dropdown, select:\n",
    "    - Image\n",
    "    - Classification\n",
    "    - Each \"mean intensity\" measurement (8 total)\n",
    "6. Click <kbd>Export</kbd>. The export should take <1 min (often more for large projects and full whole slide images). The output file will have 1 row per cell, with each row containing everything we have measured about that cell. \n",
    "\n",
    "\n",
    "## Working with the Cell data in Excel/Prism\n",
    "1. Open the created file in Excel\n",
    "2. Filter the long spreadsheet for Lung1 and CD4+ cells<br>\n",
    "<img src=\"Images/ExcelFiltering.gif\">\n",
    "3. Create a new worksheet called \"CD4 PD1\". Copy the values from the column \"ROI: 0.33 Âµm per pixel: PD1: Mean\" into the new worksheet. \n",
    "4. Repeat for Lung2 and Lung3. \n",
    "5. Select columns A, B, C. \n",
    "6. In the Insert tab, click the dropdown next to the blue bar graph and choose \"Box and Whisker\"<br>\n",
    "<img src=\"Images/Excel_BW.PNG\">\n",
    "7. You'll get a graph that looks like this: <br>\n",
    "<img src=\"Images/PD1_BW.PNG\">\n",
    "\n",
    "<br><br>\n",
    "8. Alternatively, if you have access to Prism, paste the data directly into Prism instead of a separate worksheet (easier). The resulting violin plot will be prettier and will look like this:\n",
    "\n",
    "<img src=\"Images/PD1_Violin.PNG\">\n",
    "\n"
   ]
  },
  {
   "cell_type": "markdown",
   "id": "64a5e2e3",
   "metadata": {},
   "source": [
    "## A note on image analysis statistics\n",
    "\n",
    "**When calculating statistics, it's important to keep track of technical vs biological replicates** <br>\n",
    "    - 1 mouse/human sample = n of 1 <br>\n",
    "    - 10000 cells in a single section = **1 biological replicate** <br>\n",
    "    - Individual cells are NOT independent. *Do not perform a t-test or ANOVA on them.* If you try to, you will find that these 3 crops from the same lung are p<.0001 different from each other! <br>\n",
    "    - To display both sample variabity and cell-to-cell variability, use Nested plots in Prism. For further information, see the informative and funny [SuperPlots paper](https://rupress.org/jcb/article-pdf/219/6/e202001064/1833825/jcb_202001064.pdf)\n",
    "    \n",
    "**It's equally important to keep track of error propagation.**\n",
    "<br> To WILDLY simplify power analysis, your classifier should have less error than both the difference between groups and the expected frequency of cells. Which one is more limiting depends on your experiment.\n",
    "    \n",
    "    \n",
    "    "
   ]
  }
 ],
 "metadata": {
  "kernelspec": {
   "display_name": "Python 3 (ipykernel)",
   "language": "python",
   "name": "python3"
  },
  "language_info": {
   "codemirror_mode": {
    "name": "ipython",
    "version": 3
   },
   "file_extension": ".py",
   "mimetype": "text/x-python",
   "name": "python",
   "nbconvert_exporter": "python",
   "pygments_lexer": "ipython3",
   "version": "3.9.7"
  }
 },
 "nbformat": 4,
 "nbformat_minor": 5
}
