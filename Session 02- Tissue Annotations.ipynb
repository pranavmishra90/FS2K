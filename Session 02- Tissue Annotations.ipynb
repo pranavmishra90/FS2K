{
 "cells": [
  {
   "cell_type": "markdown",
   "id": "c5ddcc7c",
   "metadata": {},
   "source": [
    "# Session 2- Annotation Tools\n",
    "*Goal: How to segment tissue automatically and manually*\n",
    "\n",
    "We are starting with LungImg2.ome.tiff. It will look something like this, though your colors will be different:\n",
    "\n",
    "  <img src=\"Images/LungImg2.PNG\" width=\"300\">\n"
   ]
  },
  {
   "attachments": {},
   "cell_type": "markdown",
   "id": "b59f957c",
   "metadata": {
    "jp-MarkdownHeadingCollapsed": true
   },
   "source": [
    "###1. Create a Tissue Annotation to define the tissue area\n",
    "To find all of the area that is near a nucleus, use a thresholder on the Hoechst channel with smoothing. \n",
    "\n",
    "1.  `Classify > Pixel classification > Create thresholder` . \n",
    "2. Set your settings to these: \n",
    "\n",
    "  ![HoechstThresholderSettings.PNG](Images/HoechstThresholderSettings.PNG)\n",
    "\n",
    "\n",
    "3. Save the classifier\n",
    "4. Click `Create objects > Full image`. Then use these settings:\n",
    "\n",
    "  <img src=\"Images/ThresholderObjectSettings.PNG\"><br>\n",
    "  <img src= \"Images/thresholderTissue.gif\" width = \"800\"><br>\n",
    "\n",
    "5. Go to the Annotation tab, then double click inside the annotation you just created. You can see basic measurements: Area, Perimeter, Centroid location. More measurements will be added later. \n"
   ]
  },
  {
   "cell_type": "markdown",
   "id": "4403154c",
   "metadata": {},
   "source": [
    "## 2. Use manual annotation tools to define an area\n",
    "We're going to try to mark the cancer area manually to practice using the Annotation tools. We'll use these skills to learn a more automated way later. Practice with these tools to mark the S100+ region, with only the S100 channel on. \n",
    "\n",
    "\n",
    "\n",
    "1. Brush:  <img src=\"https://qupath.readthedocs.io/en/stable/_images/BRUSH_TOOL.png\" width = \"50\">\n",
    "2. Polygon:  <img src=\"https://qupath.readthedocs.io/en/stable/_images/POLYGON_TOOL.png\" width = \"50\">\n",
    "3. Wand: <img src=\"https://qupath.readthedocs.io/en/stable/_images/WAND_TOOL.png\" width = \"50\">\n",
    "\n",
    "Things to note:\n",
    "  - Hit <kbd>Alt</kbd> (or <kbd>⌥</kbd> on Mac) to turn the brush or wand into an eraser!\n",
    "  - You can mix and match the tools whenever convenient. I like to add with brush and then clean up mistakes with wand.\n",
    "  - The Wand and the Brush change behavior based on your zoom\n",
    "  - While drawing, you can hit <kbd>Ctrl</kbd> (or <kbd>⌘</kbd> on Mac) + <kbd>Shift</kbd> to stop an annotation at an existing boundary.\n",
    "  - <kbd>Ctrl</kbd> (or <kbd>⌘</kbd> on Mac) + Z to undo! \n",
    "  \n",
    "For more information about annotations, see here: https://qupath.readthedocs.io/en/stable/docs/starting/annotating.html#brush-tool<br>\n",
    "<img src=\"Images/manualAnnotations.gif\" width = \"800\"><br>\n",
    "Your final results will look something like this:\n",
    "\n",
    "\n",
    "<img src=\"Images/S100_manual.PNG\" width = \"300\">\n",
    "\n",
    "    "
   ]
  },
  {
   "attachments": {},
   "cell_type": "markdown",
   "id": "6faa8ce9",
   "metadata": {},
   "source": [
    "## 3. Combine the areas to measure tumor burden\n",
    "Your Annotations tab will look something like this: <br>\n",
    "![ManyAnnotations_S2.PNG](Images/ManyAnnotations_S2.PNG)\n",
    "1. Select everything except the Region* annotation that outlines the entire tissue.\n",
    "    -  You may shift select multiple objects (like handling files) in `Annotations` tab or <kbd>Ctrl</kbd> + left click each annotation you want\n",
    "    -  To automatically select all unclassified objects, in `Annotations` tab, right click on `None` (if you have assigned no class yet), then at the bottom of the context menu click `Select objects by classification`.\n",
    "2. To merge them into a single, complex annotation: `Right click > Annotations > Edit multiple > Merge selected`\n",
    "3. Select the new annotation that defines the entire cancer region. Then, in the Class list on the right, select Tumor.<br> \n",
    "<img src=\"Images/TumorClass.PNG\"><br>\n",
    "4. Click `Set Selected` to assign the selected S100 annotation the class \"Tumor\".<br>\n",
    "   <img src=\"Images/mergingAnnotations.gif\" width = \"800\">\n",
    "5. Right click on the annotation within the Annotation list. `Right Click > Set Properties`. Give it a name. \n",
    "6. Click on the tumor annotation, then, at the bottom of the Annotations tab (lower half), look at the total S100 Area. In your favorite calculator program, divide that by the total tissue area to quantify the cancer burden.  \n",
    "  - My results are $168700 / 476700 = 0.35%$.  35% of the tissue area is positive for S100. "
   ]
  }
 ],
 "metadata": {
  "kernelspec": {
   "display_name": "Python 3 (ipykernel)",
   "language": "python",
   "name": "python3"
  },
  "language_info": {
   "codemirror_mode": {
    "name": "ipython",
    "version": 3
   },
   "file_extension": ".py",
   "mimetype": "text/x-python",
   "name": "python",
   "nbconvert_exporter": "python",
   "pygments_lexer": "ipython3",
   "version": "3.9.7"
  }
 },
 "nbformat": 4,
 "nbformat_minor": 5
}
